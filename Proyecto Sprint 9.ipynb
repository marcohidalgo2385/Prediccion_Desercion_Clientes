{
 "cells": [
  {
   "cell_type": "markdown",
   "metadata": {},
   "source": [
    "¡Hola Marco! Como te va?\n",
    "\n",
    "Mi nombre es Facundo Lozano! Un gusto conocerte, seré tu revisor en este proyecto.\n",
    "\n",
    "A continuación un poco sobre la modalidad de revisión que usaremos:\n",
    "\n",
    "Cuando enccuentro un error por primera vez, simplemente lo señalaré, te dejaré encontrarlo y arreglarlo tú cuenta. Además, a lo largo del texto iré haciendo algunas observaciones sobre mejora en tu código y también haré comentarios sobre tus percepciones sobre el tema. Pero si aún no puedes realizar esta tarea, te daré una pista más precisa en la próxima iteración y también algunos ejemplos prácticos. Estaré abierto a comentarios y discusiones sobre el tema.\n",
    "\n",
    "Encontrará mis comentarios a continuación: **no los mueva, modifique ni elimine**.\n",
    "\n",
    "Puedes encontrar mis comentarios en cuadros verdes, amarillos o rojos como este:\n",
    "\n",
    "<div class=\"alert alert-block alert-success\">\n",
    "<b>Comentario del revisor.</b> <a class=\"tocSkip\"></a>\n",
    "\n",
    "Exito. Todo se ha hecho de forma exitosa.\n",
    "</div>\n",
    "\n",
    "<div class=\"alert alert-block alert-warning\">\n",
    "<b>Comentario del revisor.</b> <a class=\"tocSkip\"></a>\n",
    "\n",
    "Observación. Algunas recomendaciones.\n",
    "</div>\n",
    "\n",
    "<div class=\"alert alert-block alert-danger\">\n",
    "\n",
    "<b>Comentario del revisor.</b> <a class=\"tocSkip\"></a>\n",
    "\n",
    "Necesita arreglos. Este apartado necesita algunas correcciones. El trabajo no puede ser aceptado con comentarios rojos. \n",
    "</div>\n",
    "\n",
    "Puedes responder utilizando esto:\n",
    "\n",
    "<div class=\"alert alert-block alert-info\">\n",
    "<b>Respuesta de estudiante.</b> <a class=\"tocSkip\"></a>\n"
   ]
  },
  {
   "cell_type": "markdown",
   "metadata": {},
   "source": [
    "# Proyecto de Introducción al Machine Learning"
   ]
  },
  {
   "cell_type": "markdown",
   "metadata": {},
   "source": [
    " <div class=\"alert alert-block alert-success\">\n",
    "<b>Review General. (Iteración 2) </b> <a class=\"tocSkip\"></a>\n",
    "\n",
    "Felicitaciones Marco, has implementado los cambios que te he indicado, bien hecho! Hemos alcanzado los objetivos del proyecto por lo que está en condiciones de ser aprobado!\n",
    "    \n",
    "Felicitaciones y éxitos en tu camino dentro del mundo de los datos!\n",
    "    \n",
    "Saludos!"
   ]
  },
  {
   "cell_type": "markdown",
   "metadata": {},
   "source": [
    "<div class=\"alert alert-block alert-success\">\n",
    "<b>Review General. (Iteración 1) </b> <a class=\"tocSkip\"></a>\n",
    "\n",
    "Buenas Marco! Siempre me tomo este tiempo al inicio de tu proyecto para comentarte mis apreciaciones generales de esta iteración de tu entrega. \n",
    "\n",
    "Me gusta comenzar dando la bienvenida al mundo de los datos a los estudiantes, te deseo lo mejor y espero que consigas lograr tus objetivos. Personalmente me gusta brindar el siguiente consejo, \"Está bien equivocarse, es normal y es lo mejor que te puede pasar. Aprendemos de los errores y eso te hará mejor programando ya que podrás descubrir cosas a medida que avances y son estas cosas las que te darán esa experiencia para ser mejor como  Data Scientist\"\n",
    "\n",
    "Ahora si yendo a esta notebook. Quería felicitarte Marco porque has realizado la mayoría de las implementaciones necesarisa y se ha notado tu manejo sobre python y las herramientas ML utilizadas. Muy bien hecho! Solo hemos tenido unos detalles pero que no nos deberían demorar tanto corregir.\n",
    "\n",
    "Espero con ansias a nuestra próxima iteración Marco, exitos y saludos!"
   ]
  },
  {
   "cell_type": "markdown",
   "metadata": {},
   "source": [
    "## Introduccion\n",
    "\n",
    "La compañía móvil Megaline se enfrenta al desafío de reducir la cantidad de clientes que utilizan planes heredados. Para lograrlo, desean desarrollar un modelo de clasificación que analice el comportamiento de los suscriptores y recomiende uno de los nuevos planes: Smart o Ultra. En este proyecto, utilizaremos datos de comportamiento de los clientes que ya se han cambiado a los planes nuevos. El objetivo es crear un modelo con alta exactitud para tomar decisiones informadas sobre la asignación de planes."
   ]
  },
  {
   "cell_type": "markdown",
   "metadata": {},
   "source": [
    "## Objetivos del Proyecto\n",
    "\n",
    "* Desarrollar un modelo de clasificación: Crear un modelo que pueda predecir con precisión si un cliente debe estar en el plan Smart o Ultra.\n",
    "\n",
    "* Alcanzar una exactitud mínima del 75%: El modelo debe superar esta métrica para ser considerado exitoso."
   ]
  },
  {
   "cell_type": "markdown",
   "metadata": {},
   "source": [
    "## Información General del Proyecto"
   ]
  },
  {
   "cell_type": "markdown",
   "metadata": {},
   "source": [
    "### Carga de librerías"
   ]
  },
  {
   "cell_type": "code",
   "execution_count": 35,
   "metadata": {},
   "outputs": [],
   "source": [
    "#importación de librerías\n",
    "import pandas as pd\n",
    "import numpy as np\n",
    "from sklearn.dummy import DummyClassifier\n",
    "from sklearn.tree import DecisionTreeClassifier\n",
    "from sklearn.ensemble import RandomForestClassifier\n",
    "from sklearn.linear_model import LogisticRegression\n",
    "from sklearn.ensemble import RandomForestRegressor\n",
    "from sklearn.tree import DecisionTreeRegressor\n",
    "from sklearn.metrics import accuracy_score\n",
    "from sklearn.linear_model import LinearRegression\n",
    "from sklearn.model_selection import train_test_split\n",
    "from sklearn.metrics import mean_squared_error"
   ]
  },
  {
   "cell_type": "markdown",
   "metadata": {},
   "source": [
    "### Carga de Base de Datos"
   ]
  },
  {
   "cell_type": "code",
   "execution_count": 13,
   "metadata": {
    "scrolled": false
   },
   "outputs": [
    {
     "data": {
      "text/html": [
       "<div>\n",
       "<style scoped>\n",
       "    .dataframe tbody tr th:only-of-type {\n",
       "        vertical-align: middle;\n",
       "    }\n",
       "\n",
       "    .dataframe tbody tr th {\n",
       "        vertical-align: top;\n",
       "    }\n",
       "\n",
       "    .dataframe thead th {\n",
       "        text-align: right;\n",
       "    }\n",
       "</style>\n",
       "<table border=\"1\" class=\"dataframe\">\n",
       "  <thead>\n",
       "    <tr style=\"text-align: right;\">\n",
       "      <th></th>\n",
       "      <th>calls</th>\n",
       "      <th>minutes</th>\n",
       "      <th>messages</th>\n",
       "      <th>mb_used</th>\n",
       "      <th>is_ultra</th>\n",
       "    </tr>\n",
       "  </thead>\n",
       "  <tbody>\n",
       "    <tr>\n",
       "      <th>0</th>\n",
       "      <td>40.0</td>\n",
       "      <td>311.90</td>\n",
       "      <td>83.0</td>\n",
       "      <td>19915.42</td>\n",
       "      <td>0</td>\n",
       "    </tr>\n",
       "    <tr>\n",
       "      <th>1</th>\n",
       "      <td>85.0</td>\n",
       "      <td>516.75</td>\n",
       "      <td>56.0</td>\n",
       "      <td>22696.96</td>\n",
       "      <td>0</td>\n",
       "    </tr>\n",
       "    <tr>\n",
       "      <th>2</th>\n",
       "      <td>77.0</td>\n",
       "      <td>467.66</td>\n",
       "      <td>86.0</td>\n",
       "      <td>21060.45</td>\n",
       "      <td>0</td>\n",
       "    </tr>\n",
       "    <tr>\n",
       "      <th>3</th>\n",
       "      <td>106.0</td>\n",
       "      <td>745.53</td>\n",
       "      <td>81.0</td>\n",
       "      <td>8437.39</td>\n",
       "      <td>1</td>\n",
       "    </tr>\n",
       "    <tr>\n",
       "      <th>4</th>\n",
       "      <td>66.0</td>\n",
       "      <td>418.74</td>\n",
       "      <td>1.0</td>\n",
       "      <td>14502.75</td>\n",
       "      <td>0</td>\n",
       "    </tr>\n",
       "    <tr>\n",
       "      <th>...</th>\n",
       "      <td>...</td>\n",
       "      <td>...</td>\n",
       "      <td>...</td>\n",
       "      <td>...</td>\n",
       "      <td>...</td>\n",
       "    </tr>\n",
       "    <tr>\n",
       "      <th>3209</th>\n",
       "      <td>122.0</td>\n",
       "      <td>910.98</td>\n",
       "      <td>20.0</td>\n",
       "      <td>35124.90</td>\n",
       "      <td>1</td>\n",
       "    </tr>\n",
       "    <tr>\n",
       "      <th>3210</th>\n",
       "      <td>25.0</td>\n",
       "      <td>190.36</td>\n",
       "      <td>0.0</td>\n",
       "      <td>3275.61</td>\n",
       "      <td>0</td>\n",
       "    </tr>\n",
       "    <tr>\n",
       "      <th>3211</th>\n",
       "      <td>97.0</td>\n",
       "      <td>634.44</td>\n",
       "      <td>70.0</td>\n",
       "      <td>13974.06</td>\n",
       "      <td>0</td>\n",
       "    </tr>\n",
       "    <tr>\n",
       "      <th>3212</th>\n",
       "      <td>64.0</td>\n",
       "      <td>462.32</td>\n",
       "      <td>90.0</td>\n",
       "      <td>31239.78</td>\n",
       "      <td>0</td>\n",
       "    </tr>\n",
       "    <tr>\n",
       "      <th>3213</th>\n",
       "      <td>80.0</td>\n",
       "      <td>566.09</td>\n",
       "      <td>6.0</td>\n",
       "      <td>29480.52</td>\n",
       "      <td>1</td>\n",
       "    </tr>\n",
       "  </tbody>\n",
       "</table>\n",
       "<p>3214 rows × 5 columns</p>\n",
       "</div>"
      ],
      "text/plain": [
       "      calls  minutes  messages   mb_used  is_ultra\n",
       "0      40.0   311.90      83.0  19915.42         0\n",
       "1      85.0   516.75      56.0  22696.96         0\n",
       "2      77.0   467.66      86.0  21060.45         0\n",
       "3     106.0   745.53      81.0   8437.39         1\n",
       "4      66.0   418.74       1.0  14502.75         0\n",
       "...     ...      ...       ...       ...       ...\n",
       "3209  122.0   910.98      20.0  35124.90         1\n",
       "3210   25.0   190.36       0.0   3275.61         0\n",
       "3211   97.0   634.44      70.0  13974.06         0\n",
       "3212   64.0   462.32      90.0  31239.78         0\n",
       "3213   80.0   566.09       6.0  29480.52         1\n",
       "\n",
       "[3214 rows x 5 columns]"
      ]
     },
     "execution_count": 13,
     "metadata": {},
     "output_type": "execute_result"
    }
   ],
   "source": [
    "#importación del dataset\n",
    "df = pd.read_csv(\"/datasets/users_behavior.csv\")\n",
    "df"
   ]
  },
  {
   "cell_type": "code",
   "execution_count": 14,
   "metadata": {},
   "outputs": [
    {
     "name": "stdout",
     "output_type": "stream",
     "text": [
      "<class 'pandas.core.frame.DataFrame'>\n",
      "RangeIndex: 3214 entries, 0 to 3213\n",
      "Data columns (total 5 columns):\n",
      " #   Column    Non-Null Count  Dtype  \n",
      "---  ------    --------------  -----  \n",
      " 0   calls     3214 non-null   float64\n",
      " 1   minutes   3214 non-null   float64\n",
      " 2   messages  3214 non-null   float64\n",
      " 3   mb_used   3214 non-null   float64\n",
      " 4   is_ultra  3214 non-null   int64  \n",
      "dtypes: float64(4), int64(1)\n",
      "memory usage: 125.7 KB\n"
     ]
    },
    {
     "data": {
      "text/html": [
       "<div>\n",
       "<style scoped>\n",
       "    .dataframe tbody tr th:only-of-type {\n",
       "        vertical-align: middle;\n",
       "    }\n",
       "\n",
       "    .dataframe tbody tr th {\n",
       "        vertical-align: top;\n",
       "    }\n",
       "\n",
       "    .dataframe thead th {\n",
       "        text-align: right;\n",
       "    }\n",
       "</style>\n",
       "<table border=\"1\" class=\"dataframe\">\n",
       "  <thead>\n",
       "    <tr style=\"text-align: right;\">\n",
       "      <th></th>\n",
       "      <th>calls</th>\n",
       "      <th>minutes</th>\n",
       "      <th>messages</th>\n",
       "      <th>mb_used</th>\n",
       "      <th>is_ultra</th>\n",
       "    </tr>\n",
       "  </thead>\n",
       "  <tbody>\n",
       "    <tr>\n",
       "      <th>count</th>\n",
       "      <td>3214.000000</td>\n",
       "      <td>3214.000000</td>\n",
       "      <td>3214.000000</td>\n",
       "      <td>3214.000000</td>\n",
       "      <td>3214.000000</td>\n",
       "    </tr>\n",
       "    <tr>\n",
       "      <th>mean</th>\n",
       "      <td>63.038892</td>\n",
       "      <td>438.208787</td>\n",
       "      <td>38.281269</td>\n",
       "      <td>17207.673836</td>\n",
       "      <td>0.306472</td>\n",
       "    </tr>\n",
       "    <tr>\n",
       "      <th>std</th>\n",
       "      <td>33.236368</td>\n",
       "      <td>234.569872</td>\n",
       "      <td>36.148326</td>\n",
       "      <td>7570.968246</td>\n",
       "      <td>0.461100</td>\n",
       "    </tr>\n",
       "    <tr>\n",
       "      <th>min</th>\n",
       "      <td>0.000000</td>\n",
       "      <td>0.000000</td>\n",
       "      <td>0.000000</td>\n",
       "      <td>0.000000</td>\n",
       "      <td>0.000000</td>\n",
       "    </tr>\n",
       "    <tr>\n",
       "      <th>25%</th>\n",
       "      <td>40.000000</td>\n",
       "      <td>274.575000</td>\n",
       "      <td>9.000000</td>\n",
       "      <td>12491.902500</td>\n",
       "      <td>0.000000</td>\n",
       "    </tr>\n",
       "    <tr>\n",
       "      <th>50%</th>\n",
       "      <td>62.000000</td>\n",
       "      <td>430.600000</td>\n",
       "      <td>30.000000</td>\n",
       "      <td>16943.235000</td>\n",
       "      <td>0.000000</td>\n",
       "    </tr>\n",
       "    <tr>\n",
       "      <th>75%</th>\n",
       "      <td>82.000000</td>\n",
       "      <td>571.927500</td>\n",
       "      <td>57.000000</td>\n",
       "      <td>21424.700000</td>\n",
       "      <td>1.000000</td>\n",
       "    </tr>\n",
       "    <tr>\n",
       "      <th>max</th>\n",
       "      <td>244.000000</td>\n",
       "      <td>1632.060000</td>\n",
       "      <td>224.000000</td>\n",
       "      <td>49745.730000</td>\n",
       "      <td>1.000000</td>\n",
       "    </tr>\n",
       "  </tbody>\n",
       "</table>\n",
       "</div>"
      ],
      "text/plain": [
       "             calls      minutes     messages       mb_used     is_ultra\n",
       "count  3214.000000  3214.000000  3214.000000   3214.000000  3214.000000\n",
       "mean     63.038892   438.208787    38.281269  17207.673836     0.306472\n",
       "std      33.236368   234.569872    36.148326   7570.968246     0.461100\n",
       "min       0.000000     0.000000     0.000000      0.000000     0.000000\n",
       "25%      40.000000   274.575000     9.000000  12491.902500     0.000000\n",
       "50%      62.000000   430.600000    30.000000  16943.235000     0.000000\n",
       "75%      82.000000   571.927500    57.000000  21424.700000     1.000000\n",
       "max     244.000000  1632.060000   224.000000  49745.730000     1.000000"
      ]
     },
     "execution_count": 14,
     "metadata": {},
     "output_type": "execute_result"
    }
   ],
   "source": [
    "#Revisión general del dataset\n",
    "df.info()\n",
    "df.describe()"
   ]
  },
  {
   "cell_type": "markdown",
   "metadata": {},
   "source": [
    "<div class=\"alert alert-block alert-success\">\n",
    "\n",
    "<b>Comentario del revisor. (Iteración 1)\n",
    "    \n",
    "</b> <a class=\"tocSkip\"></a>\n",
    "\n",
    "    \n",
    "Excelente implementación de importaciones y carga de datos Marco, sin embargo reccordemos siempre que es importante agregar métodos para observar la composición de nuestros datos, entre ellos puedes ver de implementear info() o describe().\n",
    "    \n",
    "    Excelentes agregados Marco!"
   ]
  },
  {
   "cell_type": "markdown",
   "metadata": {},
   "source": [
    "<div class=\"alert alert-block alert-info\">\n",
    "<b>De acuerdo con la recomendación del revisor se implementan métodos para revisar la composición del dataset en análisis</b> <a class=\"tocSkip\"></a>"
   ]
  },
  {
   "cell_type": "markdown",
   "metadata": {},
   "source": [
    "## Segmentación de Datos"
   ]
  },
  {
   "cell_type": "code",
   "execution_count": 21,
   "metadata": {},
   "outputs": [
    {
     "name": "stdout",
     "output_type": "stream",
     "text": [
      "(643, 4)\n",
      "(643,)\n",
      "(1928, 4)\n",
      "(1928,)\n",
      "(643, 4)\n",
      "(643,)\n"
     ]
    }
   ],
   "source": [
    "    #Segmentación de datos\n",
    "    features = df.drop([\"is_ultra\"], axis = 1)\n",
    "    target = df['is_ultra']\n",
    "\n",
    "    features_temp, features_test, target_temp, target_test = train_test_split(features,target,test_size=0.20,random_state=54321)\n",
    "    \n",
    "    features_train, features_valid, target_train, target_valid = train_test_split(features_temp,target_temp,test_size=0.25,random_state=54321)\n",
    "    \n",
    "print(features_test.shape)\n",
    "print(target_test.shape)\n",
    "print(features_train.shape)\n",
    "print(target_train.shape)\n",
    "print(features_valid.shape)\n",
    "print(target_valid.shape)"
   ]
  },
  {
   "cell_type": "markdown",
   "metadata": {},
   "source": [
    "<div class=\"alert alert-block alert-success\">\n",
    "\n",
    "<b>Comentario del revisor. (Iteración 1)\n",
    "    \n",
    "</b> <a class=\"tocSkip\"></a>\n",
    "\n",
    "    \n",
    "Cuidado aquí Marco, recordemos que siempre debemos dividir nuestros datos en 3 conjuntos que son entrenamiento, validacion y testeo, donde utilizamos los dos primeros para el proceso de selección de modelo y luego utilizar al tercer conjunto para evaluar al mejor de todos los modelos investigados previamente. Agreguemos esta tercera división.\n",
    "    \n",
    "    Ahora si una perfecta división de los datos!"
   ]
  },
  {
   "cell_type": "markdown",
   "metadata": {},
   "source": [
    "<div class=\"alert alert-block alert-info\">\n",
    "<b>Seguiendo el comentario del revisor, se procede con la división de nuestros datos en los 3 conjuntos: entrenamiento, validación y testeo.</b> <a class=\"tocSkip\"></a>"
   ]
  },
  {
   "cell_type": "markdown",
   "metadata": {},
   "source": [
    "## Investigación de Calidad de los Modelos"
   ]
  },
  {
   "cell_type": "markdown",
   "metadata": {},
   "source": [
    "### Árbol de decisión"
   ]
  },
  {
   "cell_type": "code",
   "execution_count": 26,
   "metadata": {
    "scrolled": true
   },
   "outputs": [
    {
     "name": "stdout",
     "output_type": "stream",
     "text": [
      "Exactitud de max_depth igual a 1\n",
      "Conjunto de entrenamiento: 0.752644679527069\n",
      "Conjunto de prueba: 0.7531120331950207\n",
      "\n",
      "Exactitud de max_depth igual a 2\n",
      "Conjunto de entrenamiento: 0.7840696950840075\n",
      "Conjunto de prueba: 0.7852697095435685\n",
      "\n",
      "Exactitud de max_depth igual a 3\n",
      "Conjunto de entrenamiento: 0.798070939639079\n",
      "Conjunto de prueba: 0.8008298755186722\n",
      "\n",
      "Exactitud de max_depth igual a 4\n",
      "Conjunto de entrenamiento: 0.7999377722464219\n",
      "Conjunto de prueba: 0.803941908713693\n",
      "\n",
      "Exactitud de max_depth igual a 5\n",
      "Conjunto de entrenamiento: 0.8170504044803982\n",
      "Conjunto de prueba: 0.8153526970954357\n",
      "\n",
      "Exactitud de max_depth igual a 6\n",
      "Conjunto de entrenamiento: 0.827317983820784\n",
      "Conjunto de prueba: 0.8272821576763485\n",
      "\n",
      "Exactitud de max_depth igual a 7\n",
      "Conjunto de entrenamiento: 0.8397635345364033\n",
      "Conjunto de prueba: 0.8423236514522822\n",
      "\n",
      "Exactitud de max_depth igual a 8\n",
      "Conjunto de entrenamiento: 0.8550093341630367\n",
      "Conjunto de prueba: 0.858402489626556\n",
      "\n",
      "Exactitud de max_depth igual a 9\n",
      "Conjunto de entrenamiento: 0.8637212196639701\n",
      "Conjunto de prueba: 0.8672199170124482\n",
      "\n",
      "Exactitud de max_depth igual a 10\n",
      "Conjunto de entrenamiento: 0.8718108276291225\n",
      "Conjunto de prueba: 0.8765560165975104\n",
      "\n"
     ]
    }
   ],
   "source": [
    "#Árbol de decisión\n",
    "\n",
    "# Itera sobre diferentes valores de max_depth (profundidad máxima del árbol)\n",
    "for depth in range(1, 11):\n",
    "    # Crea un modelo de árbol de decisión con la profundidad actual\n",
    "    model = DecisionTreeClassifier(random_state=54321, max_depth=depth)\n",
    "    \n",
    "    # Entrena el modelo con las características y la variable objetivo\n",
    "    model.fit(features, target)\n",
    "    \n",
    "    # Realiza predicciones en el conjunto completo y el conjunto de entrenamiento\n",
    "    train_predictions = model.predict(features)\n",
    "    test_predictions = model.predict(features_train)\n",
    "    \n",
    "    # Imprime la exactitud (accuracy) para la profundidad actual\n",
    "    print(\"Exactitud de max_depth igual a\", depth)\n",
    "    print(\"Conjunto de entrenamiento:\", accuracy_score(target, train_predictions))\n",
    "    print(\"Conjunto de prueba:\", accuracy_score(target_train, test_predictions))\n",
    "    print()\n"
   ]
  },
  {
   "cell_type": "markdown",
   "metadata": {},
   "source": [
    "<div class=\"alert alert-block alert-success\">\n",
    "\n",
    "<b>Comentario del revisor. (Iteración 1)\n",
    "    \n",
    "</b> <a class=\"tocSkip\"></a>\n",
    "\n",
    "    \n",
    "Respecto a la implementación del modelo excelente Marco! Haz correctamente creado el modelo e implementado un loop para iterar sobre diferentes vlaores de uno de los hiperparámetros, a la vez excelente cálculo de métricas!    "
   ]
  },
  {
   "cell_type": "markdown",
   "metadata": {},
   "source": [
    "### Bosque aleatorio"
   ]
  },
  {
   "cell_type": "code",
   "execution_count": 23,
   "metadata": {},
   "outputs": [
    {
     "name": "stdout",
     "output_type": "stream",
     "text": [
      "La exactitud del mejor modelo en el conjunto de validación (n_estimators = 19): 0.8320373250388803\n"
     ]
    }
   ],
   "source": [
    "#Bosque aleatorio\n",
    "# Inicialización de variables para almacenar la mejor puntuación y el número óptimo de estimadores\n",
    "best_score = 0\n",
    "best_est = 0\n",
    "\n",
    "# Itera sobre diferentes valores de estimadores (n_estimators)\n",
    "for est in range(1, 20):\n",
    "    # Crea un modelo de Random Forest con el número actual de estimadores\n",
    "    model = RandomForestClassifier(random_state=54321, n_estimators=est)\n",
    "    \n",
    "    # Entrena el modelo en el conjunto de entrenamiento\n",
    "    model.fit(features_train, target_train)\n",
    "    \n",
    "    # Calcula la puntuación de exactitud en el conjunto de validación\n",
    "    score = model.score(features_valid, target_valid)\n",
    "    \n",
    "    # Actualiza las variables de mejor puntuación y número de estimadores si se encuentra una puntuación mayor\n",
    "    if score > best_score:\n",
    "        best_score = score\n",
    "        best_est = est\n",
    "\n",
    "# Imprime la mejor puntuación y el número óptimo de estimadores\n",
    "print(\"La exactitud del mejor modelo en el conjunto de validación (n_estimators = {}): {}\".format(best_est, best_score))\n"
   ]
  },
  {
   "cell_type": "markdown",
   "metadata": {},
   "source": [
    "<div class=\"alert alert-block alert-success\">\n",
    "\n",
    "<b>Comentario del revisor. (Iteración 1)\n",
    "    \n",
    "</b> <a class=\"tocSkip\"></a>\n",
    "\n",
    "    \n",
    "Nuevamente un procedimiento similar al anterior, excelente Marco!     "
   ]
  },
  {
   "cell_type": "markdown",
   "metadata": {},
   "source": [
    "### Regresión Logística"
   ]
  },
  {
   "cell_type": "code",
   "execution_count": 24,
   "metadata": {},
   "outputs": [
    {
     "name": "stdout",
     "output_type": "stream",
     "text": [
      "Accuracy del modelo de regresión logística en el conjunto de entrenamiento: 0.7505186721991701\n",
      "Accuracy del modelo de regresión logística en el conjunto de validación: 0.776049766718507\n"
     ]
    }
   ],
   "source": [
    "#Regresión logística\n",
    "\n",
    "# Inicializa un modelo de regresión logística con los parámetros especificados\n",
    "model = LogisticRegression(random_state=54321, solver='liblinear')\n",
    "\n",
    "# Entrena el modelo en el conjunto de entrenamiento\n",
    "model.fit(features_train, target_train)\n",
    "\n",
    "# Calcula la puntuación de exactitud (accuracy) en el conjunto de entrenamiento\n",
    "score_train = model.score(features_train, target_train)\n",
    "\n",
    "# Calcula la puntuación de exactitud en el conjunto de validación\n",
    "score_valid = model.score(features_valid, target_valid)\n",
    "\n",
    "# Imprime las puntuaciones de exactitud\n",
    "print(\"Accuracy del modelo de regresión logística en el conjunto de entrenamiento:\", score_train)\n",
    "print(\"Accuracy del modelo de regresión logística en el conjunto de validación:\", score_valid)\n",
    "\n"
   ]
  },
  {
   "cell_type": "markdown",
   "metadata": {},
   "source": [
    "<div class=\"alert alert-block alert-success\">\n",
    "\n",
    "<b>Comentario del revisor. (Iteración 1)\n",
    "    \n",
    "</b> <a class=\"tocSkip\"></a>\n",
    "\n",
    "    \n",
    "En este caso un modelo más básico pero implementación excelente! Buenos resultados para un modelo más simple!    "
   ]
  },
  {
   "cell_type": "markdown",
   "metadata": {},
   "source": [
    "* El modelo de árbol de decisión obtuvo su mejor resultado en exactitud, 87,7% con una profunidad de 10\n",
    "* Por otro lado, el modelo de bosque de aleatorio, tuvo su mejor resultado con el 83,2% de exactitud con 19 estimadores\n",
    "* Al agregar estimadores (ejemplo 50) en el modelo de bosque aleatorio, el tiempo de procesamiento es notorio por lo que tiene que ser cuidadoso al momento de elegir este parámetro\n",
    "* Por último en el modelo de regresión logística tuvimos le menor exactitud con un valor de 77,6%\n",
    "* En este caso específico, el modelo de árbol de decisión ha brindado el mejor resultado"
   ]
  },
  {
   "cell_type": "markdown",
   "metadata": {},
   "source": [
    "<div class=\"alert alert-block alert-success\">\n",
    "\n",
    "<b>Comentario del revisor. (Iteración 1)\n",
    "    \n",
    "</b> <a class=\"tocSkip\"></a>\n",
    "    \n",
    "Previo a continuar, recordemos que debemos aquí agregar la evaluación sobre el tercer conjunto que debemos crear, para ello deberías elegir de los 3 modelos anteriores el que mejor resultado dió y utilizarlo para evaluarlo.\n",
    "    \n",
    "    Y una correcta implementación de lo solicitado, excelente Marco!"
   ]
  },
  {
   "cell_type": "markdown",
   "metadata": {},
   "source": [
    "<div class=\"alert alert-block alert-info\">\n",
    "<b>En el apartado de la prueba de calidad de modelo se evaluará de acuerdo con la recomendación del revisor.</b> <a class=\"tocSkip\"></a>"
   ]
  },
  {
   "cell_type": "markdown",
   "metadata": {},
   "source": [
    "## Prueba de la Calidad del Modelo"
   ]
  },
  {
   "cell_type": "code",
   "execution_count": 36,
   "metadata": {},
   "outputs": [
    {
     "name": "stdout",
     "output_type": "stream",
     "text": [
      "Precisión para max_depth igual a 10:\n",
      "Conjunto de entrenamiento: 0.883298755186722\n",
      "Conjunto de prueba: 0.7573872472783826\n"
     ]
    }
   ],
   "source": [
    "# Crea un modelo de árbol de decisión con max_depth=10\n",
    "test_model = DecisionTreeClassifier(random_state=54321, max_depth=10)\n",
    "\n",
    "# Entrena el modelo con los datos de entrenamiento\n",
    "test_model.fit(features_train, target_train)\n",
    "\n",
    "# Realiza predicciones en el conjunto de entrenamiento y el conjunto de prueba\n",
    "train_predictions = test_model.predict(features_train)\n",
    "test_predictions = test_model.predict(features_test)\n",
    "\n",
    "# Calcula la precisión (accuracy) para la profundidad actual\n",
    "print(\"Precisión para max_depth igual a 10:\")\n",
    "print(\"Conjunto de entrenamiento:\", accuracy_score(target_train, train_predictions))\n",
    "print(\"Conjunto de prueba:\", accuracy_score(target_test, test_predictions))"
   ]
  },
  {
   "cell_type": "markdown",
   "metadata": {},
   "source": [
    "* La precisión en el conjunto de prueba es más baja que en el conjunto de entrenamiento, alcanza el 75,6% que para este análiis es suficiente ya que que el mínimo solicitado es de 75%\n",
    "* Esto sugiere que el modelo podría estar sobreajustando los datos de entrenamiento y no generalizando bien a datos nuevos.\n",
    "* Podría ser útil explorar otras métricas (como la F1-score) para obtener una imagen más completa del desempeño."
   ]
  },
  {
   "cell_type": "markdown",
   "metadata": {},
   "source": [
    "<div class=\"alert alert-block alert-success\">\n",
    "\n",
    "<b>Comentario del revisor. (Iteración 1)\n",
    "    \n",
    "</b> <a class=\"tocSkip\"></a>\n",
    "    \n",
    "A no preocuparnos Marcos que de los errores aprendemos, veo que a continuación se busca realizar una prueba de calidad del modelo pero en realidad esta prueba se realaciona más a lo que te comentaba anteriormente.\n",
    "    \n",
    "Aquí estamos volviendo a entrenar los modelos, prediciendo los mismos conjuntos pero con el agregado que estas calculando una métrica como el error cudarático medio que no se relaciona con el tipo de problema nuestro, recordemos que es un problema de clasificación binaria por lo que lo correcto sería utilizar la misma métrica que se venía utilizando y no rmse.\n",
    "    \n",
    "En resumen no deberíamos realizar los siguientes modelos sino tomar el mejor de los anteriormente creados y evaluar sobre el tercer conjunto.\n",
    "    \n",
    "    Corregido!"
   ]
  },
  {
   "cell_type": "markdown",
   "metadata": {},
   "source": [
    "<div class=\"alert alert-block alert-info\">\n",
    "<b>Se ha evaluado el modelo elegido con el conjunto de testeo y se han escrito las conclusiones que nos ha dejado <a class=\"tocSkip\"></a>"
   ]
  },
  {
   "cell_type": "markdown",
   "metadata": {},
   "source": [
    "## Prueba de Cordura"
   ]
  },
  {
   "cell_type": "code",
   "execution_count": 45,
   "metadata": {},
   "outputs": [
    {
     "name": "stdout",
     "output_type": "stream",
     "text": [
      "Predicciones: [0 0 0 ... 0 0 0]\n",
      "Precisión: 0.693528313627878\n"
     ]
    }
   ],
   "source": [
    "# Genera la prueba de cordura\n",
    "\n",
    "dummy_clf = DummyClassifier(strategy=\"most_frequent\")\n",
    "dummy_clf.fit(features, target)\n",
    "\n",
    "# Realiza predicciones en el conjunto completo\n",
    "predictions = dummy_clf.predict(features)\n",
    "\n",
    "# Calcula la precisión (accuracy)\n",
    "accuracy = accuracy_score(target, predictions)\n",
    "\n",
    "print(\"Predicciones:\", predictions)\n",
    "print(\"Precisión:\", accuracy)"
   ]
  },
  {
   "cell_type": "markdown",
   "metadata": {},
   "source": [
    "* Dado que la precisión es relativamente baja, es probable que el modelo elegido (por ejemplo, el árbol de decisión) deba superar esta precisión para ser útil, en nuestro caso se confirmaría la utulidad de nuestro modelo que tiene precisión mayor a 75%\n"
   ]
  },
  {
   "cell_type": "markdown",
   "metadata": {},
   "source": [
    "<div class=\"alert alert-block alert-warning\">\n",
    "\n",
    "<b>Comentario del revisor. (Iteración 1)\n",
    "    \n",
    "</b> <a class=\"tocSkip\"></a>\n",
    "    \n",
    "Recordemos que lo ideal sería utilizar otro tipo de métrica para este tipo de problema, por esta razón te recomendaría que investigar el uso del modelo DummyClassifier() para pruebas de cordura."
   ]
  },
  {
   "cell_type": "markdown",
   "metadata": {},
   "source": [
    "<div class=\"alert alert-block alert-info\">\n",
    "<b>Intenté hacerlo de varias formas y finalmente con el código mostrado abajo tuve un resultado pero no incluye la evaluación con el promedio, sin embargo dejo las conclusiones de la prueba. <a class=\"tocSkip\"></a>"
   ]
  },
  {
   "cell_type": "markdown",
   "metadata": {},
   "source": [
    "## Conclusiones\n",
    "\n",
    "* El modelo de árbol de decisión con una profundidad de 10 fue el más efectivo, logrando una precisión superior al 87% en el conjunto de prueba.\n",
    "* Los modelos de bosque aleatorio y regresión logística también mostraron resultados prometedores.\n",
    "* Durante el testeo de nuestro modelo de Árbol de Desición con profundidad 10, pudimos comprobar que al menos para este análisis, se cumplia con la precisión deseada que es mayor a 75%\n",
    "* Con la prueba de cordura pudimos ratificar la utilidad de nuestro modelo ya que la presición es mayor a la obtenida en la prueba DummyClassifier, que fue de 69,3%"
   ]
  }
 ],
 "metadata": {
  "ExecuteTimeLog": [
   {
    "duration": 418,
    "start_time": "2024-07-02T21:35:23.757Z"
   },
   {
    "duration": 21,
    "start_time": "2024-07-02T21:36:35.551Z"
   },
   {
    "duration": 29,
    "start_time": "2024-07-02T21:36:44.116Z"
   },
   {
    "duration": 1179,
    "start_time": "2024-07-03T22:31:56.886Z"
   },
   {
    "duration": 4,
    "start_time": "2024-07-03T22:31:59.410Z"
   },
   {
    "duration": 424,
    "start_time": "2024-07-04T03:48:32.919Z"
   },
   {
    "duration": 5,
    "start_time": "2024-07-04T03:48:50.093Z"
   },
   {
    "duration": 37,
    "start_time": "2024-07-04T03:48:50.102Z"
   },
   {
    "duration": 26,
    "start_time": "2024-07-04T03:48:50.143Z"
   },
   {
    "duration": 4,
    "start_time": "2024-07-04T03:49:03.799Z"
   },
   {
    "duration": 23,
    "start_time": "2024-07-04T03:49:06.846Z"
   },
   {
    "duration": 23,
    "start_time": "2024-07-04T03:49:16.606Z"
   },
   {
    "duration": 1390,
    "start_time": "2024-07-04T03:50:17.123Z"
   },
   {
    "duration": 27,
    "start_time": "2024-07-04T03:50:45.730Z"
   },
   {
    "duration": 27,
    "start_time": "2024-07-04T03:50:48.425Z"
   },
   {
    "duration": 8,
    "start_time": "2024-07-04T03:51:19.461Z"
   },
   {
    "duration": 17,
    "start_time": "2024-07-04T03:51:31.924Z"
   },
   {
    "duration": 7,
    "start_time": "2024-07-04T03:51:37.066Z"
   },
   {
    "duration": 32,
    "start_time": "2024-07-04T04:09:13.773Z"
   },
   {
    "duration": 23,
    "start_time": "2024-07-04T04:09:36.485Z"
   },
   {
    "duration": 24,
    "start_time": "2024-07-04T04:09:39.338Z"
   },
   {
    "duration": 9,
    "start_time": "2024-07-04T04:09:44.374Z"
   },
   {
    "duration": 40,
    "start_time": "2024-07-04T04:09:50.001Z"
   },
   {
    "duration": 4,
    "start_time": "2024-07-04T04:10:44.751Z"
   },
   {
    "duration": 5,
    "start_time": "2024-07-04T04:10:50.025Z"
   },
   {
    "duration": 24,
    "start_time": "2024-07-04T04:10:52.251Z"
   },
   {
    "duration": 8,
    "start_time": "2024-07-04T04:10:55.917Z"
   },
   {
    "duration": 38,
    "start_time": "2024-07-04T04:10:58.709Z"
   },
   {
    "duration": 151,
    "start_time": "2024-07-04T04:12:37.402Z"
   },
   {
    "duration": 1255,
    "start_time": "2024-07-04T21:39:51.325Z"
   },
   {
    "duration": 447,
    "start_time": "2024-07-04T21:41:45.536Z"
   },
   {
    "duration": 4,
    "start_time": "2024-07-04T21:41:55.378Z"
   },
   {
    "duration": 39,
    "start_time": "2024-07-04T21:41:55.387Z"
   },
   {
    "duration": 8,
    "start_time": "2024-07-04T21:41:55.429Z"
   },
   {
    "duration": 176,
    "start_time": "2024-07-04T21:41:55.441Z"
   },
   {
    "duration": 422,
    "start_time": "2024-07-04T21:41:55.620Z"
   },
   {
    "duration": 4,
    "start_time": "2024-07-04T21:41:56.045Z"
   },
   {
    "duration": 768,
    "start_time": "2024-07-04T21:42:08.460Z"
   },
   {
    "duration": 6,
    "start_time": "2024-07-04T21:43:01.527Z"
   },
   {
    "duration": 24,
    "start_time": "2024-07-04T21:43:01.538Z"
   },
   {
    "duration": 8,
    "start_time": "2024-07-04T21:43:01.565Z"
   },
   {
    "duration": 202,
    "start_time": "2024-07-04T21:43:01.576Z"
   },
   {
    "duration": 8087,
    "start_time": "2024-07-04T21:43:01.783Z"
   },
   {
    "duration": 4,
    "start_time": "2024-07-04T21:43:09.872Z"
   },
   {
    "duration": 1315,
    "start_time": "2024-07-04T21:43:37.160Z"
   },
   {
    "duration": 5,
    "start_time": "2024-07-04T21:47:23.303Z"
   },
   {
    "duration": 4,
    "start_time": "2024-07-04T21:47:24.200Z"
   },
   {
    "duration": 22,
    "start_time": "2024-07-04T21:47:45.966Z"
   },
   {
    "duration": 2925,
    "start_time": "2024-07-04T21:48:35.581Z"
   },
   {
    "duration": 1318,
    "start_time": "2024-07-04T21:48:44.942Z"
   },
   {
    "duration": 33,
    "start_time": "2024-07-04T22:11:08.122Z"
   },
   {
    "duration": 5,
    "start_time": "2024-07-04T22:11:27.808Z"
   },
   {
    "duration": 41,
    "start_time": "2024-07-04T22:11:34.934Z"
   },
   {
    "duration": 239,
    "start_time": "2024-07-04T22:11:47.659Z"
   },
   {
    "duration": 89,
    "start_time": "2024-07-04T22:11:53.074Z"
   },
   {
    "duration": 32,
    "start_time": "2024-07-04T22:15:59.030Z"
   },
   {
    "duration": 6,
    "start_time": "2024-07-04T22:16:13.693Z"
   },
   {
    "duration": 7545,
    "start_time": "2024-07-04T22:16:19.413Z"
   },
   {
    "duration": 11,
    "start_time": "2024-07-04T22:17:51.434Z"
   },
   {
    "duration": 5,
    "start_time": "2024-07-05T04:38:37.624Z"
   },
   {
    "duration": 6,
    "start_time": "2024-07-05T04:38:55.520Z"
   },
   {
    "duration": 23,
    "start_time": "2024-07-05T04:49:54.719Z"
   },
   {
    "duration": 2,
    "start_time": "2024-07-05T04:53:59.928Z"
   },
   {
    "duration": 3,
    "start_time": "2024-07-05T04:58:08.173Z"
   },
   {
    "duration": 3,
    "start_time": "2024-07-05T05:04:02.100Z"
   },
   {
    "duration": 12,
    "start_time": "2024-07-05T05:04:11.746Z"
   },
   {
    "duration": 5,
    "start_time": "2024-07-05T05:07:05.810Z"
   },
   {
    "duration": 25,
    "start_time": "2024-07-05T05:07:05.819Z"
   },
   {
    "duration": 9,
    "start_time": "2024-07-05T05:07:05.848Z"
   },
   {
    "duration": 190,
    "start_time": "2024-07-05T05:07:05.859Z"
   },
   {
    "duration": 1335,
    "start_time": "2024-07-05T05:07:06.054Z"
   },
   {
    "duration": 30,
    "start_time": "2024-07-05T05:07:07.392Z"
   },
   {
    "duration": 236,
    "start_time": "2024-07-05T05:07:07.425Z"
   },
   {
    "duration": 7247,
    "start_time": "2024-07-05T05:07:07.665Z"
   },
   {
    "duration": 12,
    "start_time": "2024-07-05T05:07:14.916Z"
   },
   {
    "duration": 8,
    "start_time": "2024-07-05T05:07:14.931Z"
   },
   {
    "duration": 148,
    "start_time": "2024-07-05T05:16:52.548Z"
   },
   {
    "duration": 1325,
    "start_time": "2024-07-05T05:18:20.540Z"
   },
   {
    "duration": 18,
    "start_time": "2024-07-05T05:19:20.658Z"
   },
   {
    "duration": 86,
    "start_time": "2024-07-05T05:20:53.787Z"
   },
   {
    "duration": 7155,
    "start_time": "2024-07-05T05:22:22.887Z"
   },
   {
    "duration": 1479,
    "start_time": "2024-07-05T05:22:55.578Z"
   },
   {
    "duration": 6,
    "start_time": "2024-07-05T05:39:05.530Z"
   },
   {
    "duration": 311,
    "start_time": "2024-07-09T18:03:00.345Z"
   },
   {
    "duration": 1215,
    "start_time": "2024-07-09T18:03:06.957Z"
   },
   {
    "duration": 39,
    "start_time": "2024-07-09T18:03:08.175Z"
   },
   {
    "duration": 17,
    "start_time": "2024-07-09T18:03:08.218Z"
   },
   {
    "duration": 12,
    "start_time": "2024-07-09T18:03:08.238Z"
   },
   {
    "duration": 213,
    "start_time": "2024-07-09T18:03:08.255Z"
   },
   {
    "duration": 1402,
    "start_time": "2024-07-09T18:03:08.472Z"
   },
   {
    "duration": 41,
    "start_time": "2024-07-09T18:03:09.877Z"
   },
   {
    "duration": 170,
    "start_time": "2024-07-09T18:03:09.921Z"
   },
   {
    "duration": 1763,
    "start_time": "2024-07-09T18:03:10.095Z"
   },
   {
    "duration": 16,
    "start_time": "2024-07-09T18:03:11.861Z"
   },
   {
    "duration": 41,
    "start_time": "2024-07-09T18:03:11.880Z"
   },
   {
    "duration": 28,
    "start_time": "2024-07-09T18:03:27.614Z"
   },
   {
    "duration": 38,
    "start_time": "2024-07-09T18:03:49.025Z"
   },
   {
    "duration": 318,
    "start_time": "2024-07-09T22:36:25.475Z"
   },
   {
    "duration": 22,
    "start_time": "2024-07-09T22:36:45.511Z"
   },
   {
    "duration": 1300,
    "start_time": "2024-07-09T22:36:50.412Z"
   },
   {
    "duration": 39,
    "start_time": "2024-07-09T22:36:51.715Z"
   },
   {
    "duration": 47,
    "start_time": "2024-07-09T22:36:51.758Z"
   },
   {
    "duration": 9,
    "start_time": "2024-07-09T22:36:51.808Z"
   },
   {
    "duration": 158,
    "start_time": "2024-07-09T22:36:51.822Z"
   },
   {
    "duration": 0,
    "start_time": "2024-07-09T22:36:51.984Z"
   },
   {
    "duration": 0,
    "start_time": "2024-07-09T22:36:51.989Z"
   },
   {
    "duration": 0,
    "start_time": "2024-07-09T22:36:51.992Z"
   },
   {
    "duration": 0,
    "start_time": "2024-07-09T22:36:51.994Z"
   },
   {
    "duration": 0,
    "start_time": "2024-07-09T22:36:51.996Z"
   },
   {
    "duration": 0,
    "start_time": "2024-07-09T22:36:51.998Z"
   },
   {
    "duration": 21,
    "start_time": "2024-07-09T22:37:09.987Z"
   },
   {
    "duration": 26,
    "start_time": "2024-07-09T22:37:22.531Z"
   },
   {
    "duration": 11,
    "start_time": "2024-07-09T22:38:31.141Z"
   },
   {
    "duration": 20,
    "start_time": "2024-07-09T22:39:10.017Z"
   },
   {
    "duration": 6,
    "start_time": "2024-07-10T04:57:33.037Z"
   },
   {
    "duration": 28,
    "start_time": "2024-07-10T04:57:33.054Z"
   },
   {
    "duration": 44,
    "start_time": "2024-07-10T04:57:33.087Z"
   },
   {
    "duration": 17,
    "start_time": "2024-07-10T04:57:33.134Z"
   },
   {
    "duration": 329,
    "start_time": "2024-07-10T04:57:33.154Z"
   },
   {
    "duration": 0,
    "start_time": "2024-07-10T04:57:33.487Z"
   },
   {
    "duration": 0,
    "start_time": "2024-07-10T04:57:33.492Z"
   },
   {
    "duration": 0,
    "start_time": "2024-07-10T04:57:33.495Z"
   },
   {
    "duration": 0,
    "start_time": "2024-07-10T04:57:33.498Z"
   },
   {
    "duration": 0,
    "start_time": "2024-07-10T04:57:33.499Z"
   },
   {
    "duration": 0,
    "start_time": "2024-07-10T04:57:33.505Z"
   },
   {
    "duration": 26,
    "start_time": "2024-07-10T04:58:18.163Z"
   },
   {
    "duration": 37,
    "start_time": "2024-07-10T05:00:24.573Z"
   },
   {
    "duration": 36,
    "start_time": "2024-07-10T05:00:57.351Z"
   },
   {
    "duration": 15,
    "start_time": "2024-07-10T05:01:52.495Z"
   },
   {
    "duration": 13,
    "start_time": "2024-07-10T05:03:34.116Z"
   },
   {
    "duration": 160,
    "start_time": "2024-07-10T05:06:46.581Z"
   },
   {
    "duration": 1166,
    "start_time": "2024-07-10T05:07:26.310Z"
   },
   {
    "duration": 21,
    "start_time": "2024-07-10T05:07:50.640Z"
   },
   {
    "duration": 78,
    "start_time": "2024-07-10T05:26:24.253Z"
   },
   {
    "duration": 159,
    "start_time": "2024-07-10T05:26:36.976Z"
   },
   {
    "duration": 8,
    "start_time": "2024-07-10T05:29:53.938Z"
   },
   {
    "duration": 7,
    "start_time": "2024-07-10T05:30:15.727Z"
   },
   {
    "duration": 7,
    "start_time": "2024-07-10T05:31:38.411Z"
   },
   {
    "duration": 7,
    "start_time": "2024-07-10T05:31:57.504Z"
   },
   {
    "duration": 157,
    "start_time": "2024-07-10T05:32:20.696Z"
   },
   {
    "duration": 88,
    "start_time": "2024-07-10T05:36:10.948Z"
   },
   {
    "duration": 23,
    "start_time": "2024-07-10T05:37:13.631Z"
   },
   {
    "duration": 7,
    "start_time": "2024-07-10T05:47:18.394Z"
   },
   {
    "duration": 6,
    "start_time": "2024-07-10T05:49:38.987Z"
   },
   {
    "duration": 23,
    "start_time": "2024-07-10T05:49:56.234Z"
   },
   {
    "duration": 8,
    "start_time": "2024-07-10T05:51:37.395Z"
   },
   {
    "duration": 79,
    "start_time": "2024-07-10T05:57:48.507Z"
   },
   {
    "duration": 42,
    "start_time": "2024-07-10T05:58:13.106Z"
   },
   {
    "duration": 47,
    "start_time": "2024-07-10T06:00:42.151Z"
   },
   {
    "duration": 6,
    "start_time": "2024-07-10T06:02:22.762Z"
   },
   {
    "duration": 42,
    "start_time": "2024-07-10T06:04:11.885Z"
   },
   {
    "duration": 42,
    "start_time": "2024-07-10T06:04:58.176Z"
   },
   {
    "duration": 8,
    "start_time": "2024-07-10T06:07:09.818Z"
   },
   {
    "duration": 7,
    "start_time": "2024-07-10T06:08:43.930Z"
   }
  ],
  "kernelspec": {
   "display_name": "Python 3 (ipykernel)",
   "language": "python",
   "name": "python3"
  },
  "language_info": {
   "codemirror_mode": {
    "name": "ipython",
    "version": 3
   },
   "file_extension": ".py",
   "mimetype": "text/x-python",
   "name": "python",
   "nbconvert_exporter": "python",
   "pygments_lexer": "ipython3",
   "version": "3.9.19"
  },
  "toc": {
   "base_numbering": 1,
   "nav_menu": {},
   "number_sections": true,
   "sideBar": true,
   "skip_h1_title": true,
   "title_cell": "Table of Contents",
   "title_sidebar": "Contents",
   "toc_cell": false,
   "toc_position": {},
   "toc_section_display": true,
   "toc_window_display": false
  }
 },
 "nbformat": 4,
 "nbformat_minor": 2
}
